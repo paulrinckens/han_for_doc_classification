{
 "cells": [
  {
   "cell_type": "code",
   "execution_count": 1,
   "metadata": {},
   "outputs": [],
   "source": [
    "import os, sys\n",
    "sys.path.append(\"../\")"
   ]
  },
  {
   "cell_type": "code",
   "execution_count": 2,
   "metadata": {},
   "outputs": [],
   "source": [
    "import pandas as pd\n",
    "import numpy as np\n",
    "import matplotlib.pyplot as plt\n",
    "import matplotlib.colors\n",
    "import colorsys\n",
    "from IPython.core.display import display, HTML"
   ]
  },
  {
   "cell_type": "code",
   "execution_count": 3,
   "metadata": {},
   "outputs": [
    {
     "name": "stderr",
     "output_type": "stream",
     "text": [
      "Using TensorFlow backend.\n"
     ]
    }
   ],
   "source": [
    "import keras\n",
    "from keras.models import *\n",
    "from keras.layers import *\n",
    "from keras import initializers\n",
    "from keras.optimizers import *\n",
    "from keras import regularizers\n",
    "from keras.preprocessing.text import Tokenizer, text_to_word_sequence\n",
    "from keras.preprocessing.sequence import pad_sequences\n",
    "from keras.utils import to_categorical\n",
    "from keras.callbacks import Callback, ModelCheckpoint\n",
    "from keras.utils import CustomObjectScope\n",
    "\n",
    "import spacy\n",
    "import en_trf_bertbaseuncased_lg\n",
    "import en_core_web_sm\n",
    "import de_core_news_sm\n",
    "import en_core_web_md\n",
    "import string  \n",
    "from tqdm import tqdm"
   ]
  },
  {
   "cell_type": "code",
   "execution_count": 4,
   "metadata": {},
   "outputs": [],
   "source": [
    "#nlp = en_core_web_sm.load(disable=[\"tagger\", \"parser\", \"ner\"])\n",
    "nlp = spacy.load(\"de\", disable=[\"tagger\", \"parser\", \"ner\"])\n",
    "nlp.add_pipe(nlp.create_pipe('sentencizer'))"
   ]
  },
  {
   "cell_type": "code",
   "execution_count": 5,
   "metadata": {},
   "outputs": [],
   "source": [
    "class AttentionLayer(Layer):\n",
    "    \"\"\"\n",
    "    Hierarchial Attention Layer as described by Hierarchical Attention Networks for Document Classification(2016)\n",
    "    - Yang et. al.\n",
    "    Source: https://www.cs.cmu.edu/~hovy/papers/16HLT-hierarchical-attention-networks.pdf\n",
    "    \"\"\"\n",
    "\n",
    "    def __init__(self, attention_dim=100, **kwargs):\n",
    "        # Initializer\n",
    "        self.supports_masking = True\n",
    "        self.init = initializers.get(\n",
    "            'glorot_uniform')  # initializes values with uniform distribution\n",
    "        self.attention_dim = attention_dim\n",
    "        super(AttentionLayer, self).__init__(**kwargs)\n",
    "\n",
    "    def build(self, input_shape):\n",
    "        # Builds all weights\n",
    "        # W = Weight matrix, b = bias vector, u = context vector\n",
    "        assert len(input_shape) == 3\n",
    "        self.W = K.variable(self.init((input_shape[-1], self.attention_dim)),\n",
    "                            name='W')\n",
    "        self.b = K.variable(self.init((self.attention_dim,)), name='b')\n",
    "        self.u = K.variable(self.init((self.attention_dim, 1)), name='u')\n",
    "        self.trainable_weights = [self.W, self.b, self.u]\n",
    "\n",
    "        super(AttentionLayer, self).build(input_shape)\n",
    "\n",
    "    def compute_mask(self, input, input_mask=None):\n",
    "        return None\n",
    "\n",
    "    def call(self, hit, mask=None):\n",
    "        # Here, the actual calculation is done\n",
    "        uit = K.bias_add(K.dot(hit, self.W), self.b)\n",
    "        uit = K.tanh(uit)\n",
    "\n",
    "        ait = K.dot(uit, self.u)\n",
    "        ait = K.squeeze(ait, -1)\n",
    "        ait = K.exp(ait)\n",
    "\n",
    "        if mask is not None:\n",
    "            ait *= K.cast(mask, K.floatx())\n",
    "\n",
    "        ait /= K.cast(K.sum(ait, axis=1, keepdims=True) + K.epsilon(),\n",
    "                      K.floatx())\n",
    "        ait = K.expand_dims(ait)\n",
    "        weighted_input = hit * ait\n",
    "\n",
    "        return K.sum(weighted_input, axis=1)\n",
    "\n",
    "    def compute_output_shape(self, input_shape):\n",
    "        return input_shape[0], input_shape[-1]\n",
    "\n",
    "    def get_config(self):\n",
    "        config = super(AttentionLayer, self).get_config()\n",
    "        config[\"attention_dim\"] = self.attention_dim\n",
    "        return config\n"
   ]
  },
  {
   "cell_type": "markdown",
   "metadata": {},
   "source": [
    "## Configuration Parameter"
   ]
  },
  {
   "cell_type": "code",
   "execution_count": 6,
   "metadata": {},
   "outputs": [],
   "source": [
    "model = None\n",
    "MAX_WORD_NUM = 40\n",
    "MAX_SENTENCE_NUM = 9\n",
    "VOCABULARY_SIZE = 0\n",
    "word_embedding = None\n",
    "word_attention_model = None\n",
    "tokenizer = None\n",
    "class_count = 2\n",
    "REG_PARAM = 1e-8\n",
    "MAX_NUM_WORDS = 200000\n",
    "\n",
    "embedding_path = \"../embeddings/glove_german/vectors.txt\"\n",
    "EMBED_DIM = 300\n",
    "\n",
    "l2_reg = regularizers.l2(REG_PARAM)"
   ]
  },
  {
   "cell_type": "markdown",
   "metadata": {},
   "source": [
    "## Load and clean data"
   ]
  },
  {
   "cell_type": "code",
   "execution_count": 7,
   "metadata": {},
   "outputs": [],
   "source": [
    "df = pd.read_csv(\"../data/articles.csv\", encoding=\"utf-8\", delimiter=\";\", quotechar=\"'\").rename(columns={\n",
    "    \"Text\": \"text\",\n",
    "    \"Label\": \"label\"\n",
    "})"
   ]
  },
  {
   "cell_type": "code",
   "execution_count": 8,
   "metadata": {},
   "outputs": [],
   "source": [
    "df = df.sample(frac=1).reset_index(drop=True)\n",
    "df = df[:500]"
   ]
  },
  {
   "cell_type": "code",
   "execution_count": 9,
   "metadata": {},
   "outputs": [
    {
     "data": {
      "text/html": [
       "<div>\n",
       "<style scoped>\n",
       "    .dataframe tbody tr th:only-of-type {\n",
       "        vertical-align: middle;\n",
       "    }\n",
       "\n",
       "    .dataframe tbody tr th {\n",
       "        vertical-align: top;\n",
       "    }\n",
       "\n",
       "    .dataframe thead th {\n",
       "        text-align: right;\n",
       "    }\n",
       "</style>\n",
       "<table border=\"1\" class=\"dataframe\">\n",
       "  <thead>\n",
       "    <tr style=\"text-align: right;\">\n",
       "      <th></th>\n",
       "      <th>label</th>\n",
       "      <th>text</th>\n",
       "    </tr>\n",
       "  </thead>\n",
       "  <tbody>\n",
       "    <tr>\n",
       "      <th>0</th>\n",
       "      <td>International</td>\n",
       "      <td>Mörderische Bandenkriege erschüttern lateiname...</td>\n",
       "    </tr>\n",
       "    <tr>\n",
       "      <th>1</th>\n",
       "      <td>Web</td>\n",
       "      <td>Vor allem in internationalen Märkten konnte de...</td>\n",
       "    </tr>\n",
       "    <tr>\n",
       "      <th>2</th>\n",
       "      <td>Etat</td>\n",
       "      <td>NYTimes.com/es bietet eigene Artikel und tägli...</td>\n",
       "    </tr>\n",
       "    <tr>\n",
       "      <th>3</th>\n",
       "      <td>Wissenschaft</td>\n",
       "      <td>Kann das Holz städtischer Wälder zum Klimaschu...</td>\n",
       "    </tr>\n",
       "    <tr>\n",
       "      <th>4</th>\n",
       "      <td>Wirtschaft</td>\n",
       "      <td>Das Zertifikat läuft maximal sechs Jahre. Der ...</td>\n",
       "    </tr>\n",
       "  </tbody>\n",
       "</table>\n",
       "</div>"
      ],
      "text/plain": [
       "           label                                               text\n",
       "0  International  Mörderische Bandenkriege erschüttern lateiname...\n",
       "1            Web  Vor allem in internationalen Märkten konnte de...\n",
       "2           Etat  NYTimes.com/es bietet eigene Artikel und tägli...\n",
       "3   Wissenschaft  Kann das Holz städtischer Wälder zum Klimaschu...\n",
       "4     Wirtschaft  Das Zertifikat läuft maximal sechs Jahre. Der ..."
      ]
     },
     "execution_count": 9,
     "metadata": {},
     "output_type": "execute_result"
    }
   ],
   "source": [
    "df.head()"
   ]
  },
  {
   "cell_type": "code",
   "execution_count": 10,
   "metadata": {},
   "outputs": [],
   "source": [
    "import re\n",
    "def clean_str(string):\n",
    "    \"\"\"\n",
    "    Tokenization/string cleaning for dataset\n",
    "    Every dataset is lower cased except\n",
    "    \"\"\"\n",
    "    string = re.sub(r\"\\\\\", \"\", string)    \n",
    "    string = re.sub(r\"\\'\", \"\", string)    \n",
    "    string = re.sub(r\"\\\"\", \"\", string)\n",
    "    string = re.sub(r\"<.*>\", \"\", string)    \n",
    "    return string.strip()"
   ]
  },
  {
   "cell_type": "code",
   "execution_count": 11,
   "metadata": {},
   "outputs": [],
   "source": [
    "PUNCTUATION = [\".\", \"?\", \",\", \";\", \"!\"]\n",
    "STOP_WORDS = spacy.lang.de.stop_words.STOP_WORDS\n",
    "\n",
    "def normalize(text):\n",
    "    text = text.lower()\n",
    "    text = text.strip()\n",
    "    text = clean_str(text)\n",
    "    doc = nlp(text)\n",
    "    filtered_sentences = []\n",
    "    for sentence in doc.sents:\n",
    "        filtered_tokens = list()\n",
    "        for i, w in enumerate(sentence):\n",
    "            s = w.string.strip()\n",
    "            if len(s) == 0 or s in string.punctuation and i < len(doc) - 1:\n",
    "                continue\n",
    "            if s not in STOP_WORDS:\n",
    "                s = s.replace(',', '.')\n",
    "                filtered_tokens.append(s)\n",
    "        filtered_sentences.append(filtered_tokens)\n",
    "    return filtered_sentences"
   ]
  },
  {
   "cell_type": "code",
   "execution_count": 12,
   "metadata": {},
   "outputs": [],
   "source": [
    "df['text'] = df['text'].apply(clean_str)"
   ]
  },
  {
   "cell_type": "code",
   "execution_count": 13,
   "metadata": {},
   "outputs": [
    {
     "data": {
      "text/html": [
       "<div>\n",
       "<style scoped>\n",
       "    .dataframe tbody tr th:only-of-type {\n",
       "        vertical-align: middle;\n",
       "    }\n",
       "\n",
       "    .dataframe tbody tr th {\n",
       "        vertical-align: top;\n",
       "    }\n",
       "\n",
       "    .dataframe thead th {\n",
       "        text-align: right;\n",
       "    }\n",
       "</style>\n",
       "<table border=\"1\" class=\"dataframe\">\n",
       "  <thead>\n",
       "    <tr style=\"text-align: right;\">\n",
       "      <th></th>\n",
       "      <th>label</th>\n",
       "      <th>text</th>\n",
       "    </tr>\n",
       "  </thead>\n",
       "  <tbody>\n",
       "    <tr>\n",
       "      <th>0</th>\n",
       "      <td>International</td>\n",
       "      <td>Mörderische Bandenkriege erschüttern lateiname...</td>\n",
       "    </tr>\n",
       "    <tr>\n",
       "      <th>1</th>\n",
       "      <td>Web</td>\n",
       "      <td>Vor allem in internationalen Märkten konnte de...</td>\n",
       "    </tr>\n",
       "    <tr>\n",
       "      <th>2</th>\n",
       "      <td>Etat</td>\n",
       "      <td>NYTimes.com/es bietet eigene Artikel und tägli...</td>\n",
       "    </tr>\n",
       "    <tr>\n",
       "      <th>3</th>\n",
       "      <td>Wissenschaft</td>\n",
       "      <td>Kann das Holz städtischer Wälder zum Klimaschu...</td>\n",
       "    </tr>\n",
       "    <tr>\n",
       "      <th>4</th>\n",
       "      <td>Wirtschaft</td>\n",
       "      <td>Das Zertifikat läuft maximal sechs Jahre. Der ...</td>\n",
       "    </tr>\n",
       "  </tbody>\n",
       "</table>\n",
       "</div>"
      ],
      "text/plain": [
       "           label                                               text\n",
       "0  International  Mörderische Bandenkriege erschüttern lateiname...\n",
       "1            Web  Vor allem in internationalen Märkten konnte de...\n",
       "2           Etat  NYTimes.com/es bietet eigene Artikel und tägli...\n",
       "3   Wissenschaft  Kann das Holz städtischer Wälder zum Klimaschu...\n",
       "4     Wirtschaft  Das Zertifikat läuft maximal sechs Jahre. Der ..."
      ]
     },
     "execution_count": 13,
     "metadata": {},
     "output_type": "execute_result"
    }
   ],
   "source": [
    "df.head()"
   ]
  },
  {
   "cell_type": "code",
   "execution_count": 14,
   "metadata": {},
   "outputs": [],
   "source": [
    "def split_df(dataframe, column_name, training_split, validation_split, test_split):\n",
    "    if training_split + validation_split + test_split != 1.0:\n",
    "        raise ValueError('Split paramter sum should be 1.0')\n",
    "        \n",
    "    total = len(dataframe.index)\n",
    " \n",
    "    train = dataframe.reset_index().groupby(column_name).apply(lambda x: x.sample(frac=training_split)).reset_index(drop=True).set_index('index')\n",
    "    train = train.sample(frac=1)\n",
    "    temp_df = dataframe.drop(train.index)\n",
    "    validation = temp_df.reset_index().groupby(column_name).apply(lambda x: x.sample(frac=validation_split/(test_split+validation_split))).reset_index(drop=True).set_index('index')\n",
    "    validation = validation.sample(frac=1)\n",
    "    test = temp_df.drop(validation.index)\n",
    "    test = test.sample(frac=1)\n",
    "    \n",
    "    print('Total: ', len(dataframe))\n",
    "    print('Training: ', len(train), ', Percentage: ', len(train)/len(dataframe))\n",
    "    print('Validation: ', len(validation), ', Percentage: ', len(validation)/len(dataframe))\n",
    "    print('Test:', len(test), ', Percentage: ', len(test)/len(dataframe))\n",
    "\n",
    "    return train, validation, test"
   ]
  },
  {
   "cell_type": "code",
   "execution_count": 15,
   "metadata": {},
   "outputs": [
    {
     "name": "stdout",
     "output_type": "stream",
     "text": [
      "Total:  500\n",
      "Training:  400 , Percentage:  0.8\n",
      "Validation:  48 , Percentage:  0.096\n",
      "Test: 52 , Percentage:  0.104\n"
     ]
    }
   ],
   "source": [
    "train, validation, test = split_df(df, 'label',0.8,0.1,0.1)"
   ]
  },
  {
   "cell_type": "markdown",
   "metadata": {},
   "source": [
    "## Tokenize input texts and create Embedding Matrix with pretrained word vectors\n",
    "Following example from https://keras.io/examples/pretrained_word_embeddings/"
   ]
  },
  {
   "cell_type": "code",
   "execution_count": 18,
   "metadata": {},
   "outputs": [
    {
     "name": "stdout",
     "output_type": "stream",
     "text": [
      "Indexing word vectors.\n",
      "Found 1309281 word vectors.\n"
     ]
    }
   ],
   "source": [
    "# first, build index mapping words in the embeddings set\n",
    "# to their embedding vector\n",
    "print('Indexing word vectors.')\n",
    "\n",
    "embeddings_index = {}\n",
    "with open(embedding_path) as f:\n",
    "    for line in f:\n",
    "        word, coefs = line.split(maxsplit=1)\n",
    "        coefs = np.fromstring(coefs, 'f', sep=' ')\n",
    "        embeddings_index[word] = coefs\n",
    "\n",
    "print('Found %s word vectors.' % len(embeddings_index))"
   ]
  },
  {
   "cell_type": "code",
   "execution_count": 17,
   "metadata": {},
   "outputs": [
    {
     "name": "stdout",
     "output_type": "stream",
     "text": [
      "Processing text dataset\n",
      "Found 9 different labels\n"
     ]
    }
   ],
   "source": [
    "# second, prepare labels\n",
    "print('Processing text dataset')\n",
    "\n",
    "labels_index = {}  # dictionary mapping label name to numeric id\n",
    "index_labels = {}\n",
    "labels = []  # list of label ids\n",
    "\n",
    "for i, v in enumerate(df[\"label\"].unique()):\n",
    "    labels_index[v] = i\n",
    "    index_labels[i] = v\n",
    "\n",
    "labels = df[\"label\"].apply(lambda x: labels_index[x])\n",
    "\n",
    "n_classes = len(labels_index.keys())\n",
    "print(f\"Found {n_classes} different labels\")"
   ]
  },
  {
   "cell_type": "code",
   "execution_count": 200,
   "metadata": {},
   "outputs": [
    {
     "name": "stdout",
     "output_type": "stream",
     "text": [
      "Found 30023 unique tokens.\n",
      "Vocabulary Size:  30024\n"
     ]
    }
   ],
   "source": [
    "# finally, vectorize the text samples into a 2D integer tensor\n",
    "tokenizer = Tokenizer(num_words=MAX_NUM_WORDS, lower=True)\n",
    "tokenizer.fit_on_texts(df[\"text\"])\n",
    "\n",
    "word_index = tokenizer.word_index\n",
    "\n",
    "VOCABULARY_SIZE = len(word_index) + 1\n",
    "print('Found %s unique tokens.' % len(word_index))\n",
    "print(\"Vocabulary Size: \", VOCABULARY_SIZE)"
   ]
  },
  {
   "cell_type": "code",
   "execution_count": 201,
   "metadata": {},
   "outputs": [
    {
     "name": "stdout",
     "output_type": "stream",
     "text": [
      "Preparing embedding matrix.\n"
     ]
    }
   ],
   "source": [
    "print('Preparing embedding matrix.')\n",
    "\n",
    "# prepare embedding matrix that maps word indexs to their vectors\n",
    "num_words = min(MAX_NUM_WORDS, len(word_index) + 1)\n",
    "embedding_matrix = np.zeros((num_words, EMBED_DIM))\n",
    "for word, i in word_index.items():\n",
    "    if i >= MAX_NUM_WORDS:\n",
    "        continue\n",
    "    embedding_vector = embeddings_index.get(word)\n",
    "    if embedding_vector is not None:\n",
    "        # words not found in embedding index will be all-zeros.\n",
    "        embedding_matrix[i] = embedding_vector"
   ]
  },
  {
   "cell_type": "code",
   "execution_count": 202,
   "metadata": {},
   "outputs": [],
   "source": [
    "num_words = min(MAX_NUM_WORDS, len(word_index) + 1)"
   ]
  },
  {
   "cell_type": "markdown",
   "metadata": {},
   "source": [
    "## Encode Train Data"
   ]
  },
  {
   "cell_type": "code",
   "execution_count": 203,
   "metadata": {},
   "outputs": [],
   "source": [
    "def encode_texts(texts):\n",
    "    encoded_texts = np.zeros((len(texts), MAX_SENTENCE_NUM, MAX_WORD_NUM))\n",
    "    for i, text in enumerate(texts):\n",
    "        normalized_text = normalize(text)\n",
    "        for j, sent in enumerate(normalized_text[:min(len(normalized_text),MAX_SENTENCE_NUM)]):\n",
    "            for k, t in enumerate(sent):\n",
    "                if k < MAX_WORD_NUM:                    \n",
    "                    try:\n",
    "                        encoded_texts[i,j,k] = word_index[t]\n",
    "                    except:\n",
    "                        pass\n",
    "    return encoded_texts"
   ]
  },
  {
   "cell_type": "code",
   "execution_count": 204,
   "metadata": {},
   "outputs": [],
   "source": [
    "encoded_texts = encode_texts(df[\"text\"])\n",
    "encoded_labels = pd.get_dummies(labels)"
   ]
  },
  {
   "cell_type": "code",
   "execution_count": 205,
   "metadata": {},
   "outputs": [],
   "source": [
    "train_x = encoded_texts[train.index]\n",
    "train_y = encoded_labels.loc[train.index]\n",
    "\n",
    "validation_x = encoded_texts[validation.index]\n",
    "validation_y = encoded_labels.loc[validation.index]\n",
    "\n",
    "test_x = encoded_texts[test.index]\n",
    "test_y = encoded_labels.loc[test.index]"
   ]
  },
  {
   "cell_type": "markdown",
   "metadata": {},
   "source": [
    "## Build Model"
   ]
  },
  {
   "cell_type": "code",
   "execution_count": 208,
   "metadata": {
    "scrolled": false
   },
   "outputs": [],
   "source": [
    "def _build_model():\n",
    "    # Words level attention model\n",
    "    word_input = Input(shape=(MAX_WORD_NUM,), dtype='int32',name='word_input')\n",
    "    word_sequences = Embedding(num_words,\n",
    "                               EMBED_DIM,\n",
    "                               weights=[embedding_matrix],\n",
    "                               input_length=MAX_WORD_NUM,\n",
    "                               trainable=False,\n",
    "                               name='word_embedding')(word_input)\n",
    "    word_gru = Bidirectional(GRU(50, return_sequences=True),name='word_gru')(word_sequences)\n",
    "    word_dense = Dense(100, activation='relu', name='word_dense')(word_gru) \n",
    "    word_att = AttentionLayer(attention_dim=EMBED_DIM,name='word_attention')(word_dense)\n",
    "    wordEncoder = Model(inputs = word_input,outputs = word_att)\n",
    "\n",
    "    # Sentence level attention model\n",
    "    sent_input = Input(shape=(MAX_SENTENCE_NUM,MAX_WORD_NUM), dtype='int32',name='sent_input')\n",
    "    sent_encoder = TimeDistributed(wordEncoder,name='sent_linking')(sent_input)\n",
    "    sent_gru = Bidirectional(GRU(50, return_sequences=True),name='sent_gru')(sent_encoder)\n",
    "    sent_dense = Dense(100, activation='relu', name='sent_dense')(sent_gru) \n",
    "    sent_att = AttentionLayer(attention_dim=EMBED_DIM,name='sent_attention')(sent_dense)\n",
    "    sent_drop = Dropout(0.5,name='sent_dropout')(sent_att)\n",
    "    preds = Dense(n_classes, activation='softmax',name='output')(sent_drop)\n",
    "\n",
    "    # Model compile\n",
    "    model = Model(sent_input, preds, )\n",
    "    model.compile(loss='categorical_crossentropy',optimizer='adam',metrics=['acc'])\n",
    "\n",
    "    print(wordEncoder.summary())\n",
    "    print(model.summary())\n",
    "    \n",
    "    return model, wordEncoder"
   ]
  },
  {
   "cell_type": "code",
   "execution_count": 209,
   "metadata": {},
   "outputs": [
    {
     "name": "stdout",
     "output_type": "stream",
     "text": [
      "tracking <tf.Variable 'word_attention_8/W:0' shape=(100, 300) dtype=float32> W\n",
      "tracking <tf.Variable 'word_attention_8/b:0' shape=(300,) dtype=float32> b\n",
      "tracking <tf.Variable 'word_attention_8/u:0' shape=(300, 1) dtype=float32> u\n",
      "tracking <tf.Variable 'sent_attention_8/W:0' shape=(100, 300) dtype=float32> W\n",
      "tracking <tf.Variable 'sent_attention_8/b:0' shape=(300,) dtype=float32> b\n",
      "tracking <tf.Variable 'sent_attention_8/u:0' shape=(300, 1) dtype=float32> u\n",
      "Model: \"model_50\"\n",
      "_________________________________________________________________\n",
      "Layer (type)                 Output Shape              Param #   \n",
      "=================================================================\n",
      "word_input (InputLayer)      (None, 40)                0         \n",
      "_________________________________________________________________\n",
      "word_embedding (Embedding)   (None, 40, 300)           9007200   \n",
      "_________________________________________________________________\n",
      "word_gru (Bidirectional)     (None, 40, 100)           105300    \n",
      "_________________________________________________________________\n",
      "word_dense (Dense)           (None, 40, 100)           10100     \n",
      "_________________________________________________________________\n",
      "word_attention (AttentionLay (None, 100)               30600     \n",
      "=================================================================\n",
      "Total params: 9,153,200\n",
      "Trainable params: 146,000\n",
      "Non-trainable params: 9,007,200\n",
      "_________________________________________________________________\n",
      "None\n",
      "Model: \"model_51\"\n",
      "_________________________________________________________________\n",
      "Layer (type)                 Output Shape              Param #   \n",
      "=================================================================\n",
      "sent_input (InputLayer)      (None, 9, 40)             0         \n",
      "_________________________________________________________________\n",
      "sent_linking (TimeDistribute (None, 9, 100)            9153200   \n",
      "_________________________________________________________________\n",
      "sent_gru (Bidirectional)     (None, 9, 100)            45300     \n",
      "_________________________________________________________________\n",
      "sent_dense (Dense)           (None, 9, 100)            10100     \n",
      "_________________________________________________________________\n",
      "sent_attention (AttentionLay (None, 100)               30600     \n",
      "_________________________________________________________________\n",
      "sent_dropout (Dropout)       (None, 100)               0         \n",
      "_________________________________________________________________\n",
      "output (Dense)               (None, 9)                 909       \n",
      "=================================================================\n",
      "Total params: 9,240,109\n",
      "Trainable params: 232,909\n",
      "Non-trainable params: 9,007,200\n",
      "_________________________________________________________________\n",
      "None\n"
     ]
    }
   ],
   "source": [
    "model, wordEncoder = _build_model()"
   ]
  },
  {
   "cell_type": "markdown",
   "metadata": {},
   "source": [
    "## Train Model"
   ]
  },
  {
   "cell_type": "code",
   "execution_count": 210,
   "metadata": {},
   "outputs": [
    {
     "name": "stdout",
     "output_type": "stream",
     "text": [
      "Train on 400 samples, validate on 50 samples\n",
      "Epoch 1/5\n",
      "400/400 [==============================] - 6s 15ms/step - loss: 2.1617 - acc: 0.1900 - val_loss: 2.0343 - val_acc: 0.4400\n",
      "Epoch 2/5\n",
      "400/400 [==============================] - 3s 9ms/step - loss: 1.8882 - acc: 0.3100 - val_loss: 1.6042 - val_acc: 0.4000\n",
      "Epoch 3/5\n",
      "400/400 [==============================] - 4s 9ms/step - loss: 1.5491 - acc: 0.4550 - val_loss: 1.3651 - val_acc: 0.4600\n",
      "Epoch 4/5\n",
      "400/400 [==============================] - 5s 11ms/step - loss: 1.3765 - acc: 0.5000 - val_loss: 1.3264 - val_acc: 0.5200\n",
      "Epoch 5/5\n",
      "400/400 [==============================] - 4s 10ms/step - loss: 1.1451 - acc: 0.5975 - val_loss: 1.2382 - val_acc: 0.5400\n"
     ]
    }
   ],
   "source": [
    "checkpoint = ModelCheckpoint('best_model.h5', verbose=0, monitor='val_loss',save_best_only=True, mode='auto') \n",
    "history = model.fit(x=train_x,\n",
    "                    y=train_y,\n",
    "                    validation_data=(validation_x, validation_y),\n",
    "                    epochs=5,\n",
    "                    batch_size=32,\n",
    "                    callbacks=[checkpoint])"
   ]
  },
  {
   "cell_type": "code",
   "execution_count": 211,
   "metadata": {},
   "outputs": [
    {
     "data": {
      "image/png": "[encoded data removed]",
      "text/plain": [
       "<Figure size 432x288 with 1 Axes>"
      ]
     },
     "metadata": {
      "needs_background": "light"
     },
     "output_type": "display_data"
    },
    {
     "data": {
      "image/png": "[encoded data removed]",
      "text/plain": [
       "<Figure size 432x288 with 1 Axes>"
      ]
     },
     "metadata": {
      "needs_background": "light"
     },
     "output_type": "display_data"
    }
   ],
   "source": [
    "# summarize history for accuracy\n",
    "plt.plot(history.history['acc'])\n",
    "plt.plot(history.history['val_acc'])\n",
    "plt.title('model accuracy')\n",
    "plt.ylabel('accuracy')\n",
    "plt.xlabel('epoch')\n",
    "plt.legend(['train', 'validation'], loc='upper left')\n",
    "plt.show()\n",
    "# summarize history for loss\n",
    "plt.plot(history.history['loss'])\n",
    "plt.plot(history.history['val_loss'])\n",
    "plt.title('model loss')\n",
    "plt.ylabel('loss')\n",
    "plt.xlabel('epoch')\n",
    "plt.legend(['train', 'validation'], loc='upper left')\n",
    "plt.show()"
   ]
  },
  {
   "cell_type": "code",
   "execution_count": 212,
   "metadata": {},
   "outputs": [
    {
     "name": "stdout",
     "output_type": "stream",
     "text": [
      "50/50 [==============================] - 0s 3ms/step\n",
      "Test set accuracy:  0.5400000214576721\n",
      "Test set loss:  1.2699434709548951\n"
     ]
    }
   ],
   "source": [
    "loss, acc = model.evaluate(test_x, test_y)\n",
    "print(\"Test set accuracy: \",acc)\n",
    "print(\"Test set loss: \", loss)"
   ]
  },
  {
   "cell_type": "markdown",
   "metadata": {},
   "source": [
    "## Predict some examples"
   ]
  },
  {
   "cell_type": "code",
   "execution_count": 282,
   "metadata": {},
   "outputs": [],
   "source": [
    "def predict(text):\n",
    "    encoded_text = encode_texts([text])\n",
    "\n",
    "    probs = model.predict(encoded_text)[0]\n",
    "    print(\"Prediction result:\", probs)\n",
    "\n",
    "    pred_label_index = np.argmax(probs)\n",
    "    pred_label = index_labels[pred_label_index]\n",
    "    pred_prob = probs[pred_label_index]\n",
    "\n",
    "    print(f\"Prediction: {pred_label.upper()} with confidence: {pred_prob}.\")"
   ]
  },
  {
   "cell_type": "code",
   "execution_count": 283,
   "metadata": {},
   "outputs": [
    {
     "name": "stdout",
     "output_type": "stream",
     "text": [
      "Prediction result: [0.08363204 0.02674557 0.17692816 0.01426391 0.05273069 0.5257366\n",
      " 0.02846334 0.0158299  0.07566986]\n",
      "Prediction: WEB with confidence: 0.5257365703582764.\n"
     ]
    }
   ],
   "source": [
    "text = \"I usually really love German movies. However, this movie was just too much for me. The director did a bad job in cutting the scenes and the overall acting performance was just not sufficient in my eyes.\"\n",
    "predict(text)"
   ]
  },
  {
   "cell_type": "code",
   "execution_count": 285,
   "metadata": {},
   "outputs": [],
   "source": [
    "encoded_text = encode_texts([text])\n",
    "\n",
    "probs = model.predict(encoded_text)[0]"
   ]
  },
  {
   "cell_type": "code",
   "execution_count": 309,
   "metadata": {},
   "outputs": [
    {
     "data": {
      "text/plain": [
       "{0: 0.08363204,\n",
       " 1: 0.026745567,\n",
       " 2: 0.17692816,\n",
       " 3: 0.014263911,\n",
       " 4: 0.052730694,\n",
       " 5: 0.5257366,\n",
       " 6: 0.028463336,\n",
       " 7: 0.015829902,\n",
       " 8: 0.07566986}"
      ]
     },
     "execution_count": 309,
     "metadata": {},
     "output_type": "execute_result"
    }
   ],
   "source": [
    "numbers = range(10)\n",
    "{n:probs[n] for n in range(len(probs))}"
   ]
  },
  {
   "cell_type": "markdown",
   "metadata": {},
   "source": [
    "## Visualize attention"
   ]
  },
  {
   "cell_type": "code",
   "execution_count": 216,
   "metadata": {},
   "outputs": [],
   "source": [
    "def _get_attention_weights(sequenceSentence,weights):\n",
    "    \"\"\"\n",
    "    The same function as the AttentionLayer class.\n",
    "    \"\"\"\n",
    "    uit = np.dot(sequenceSentence, weights[0]) + weights[1]\n",
    "    uit = np.tanh(uit)\n",
    "\n",
    "    ait = np.dot(uit, weights[2])\n",
    "    ait = np.squeeze(ait)\n",
    "    ait = np.exp(ait)\n",
    "    ait /= np.sum(ait)\n",
    "    \n",
    "    return ait"
   ]
  },
  {
   "cell_type": "code",
   "execution_count": 271,
   "metadata": {},
   "outputs": [],
   "source": [
    "def predict_and_visualize_attention(text):\n",
    "    encoded_text = encode_texts([text])[0]\n",
    "    \n",
    "    normalized_text = normalize(text)\n",
    "    \n",
    "    # word level attention\n",
    "    hidden_word_encoding_out = Model(inputs=wordEncoder.get_layer('word_input').output,\n",
    "                                     outputs=wordEncoder.get_layer('word_dense').output)\n",
    "\n",
    "    hidden_word_encodings = hidden_word_encoding_out.predict(encoded_text)\n",
    "    word_context = wordEncoder.get_layer('word_attention').get_weights()\n",
    "    word_attentions = _get_attention_weights(hidden_word_encodings, word_context)\n",
    "   \n",
    "    # sentence level attention\n",
    "    hidden_sent_encoding_out = Model(inputs=model.get_layer(\"sent_input\").output,\n",
    "                                         outputs=[model.get_layer(\"output\").output,\n",
    "                                                  model.get_layer('sent_dense').output])\n",
    "    output_array = hidden_sent_encoding_out.predict(np.expand_dims(encoded_text, 0))\n",
    "    sentence_attentions = _get_attention_weights(output_array[1],model.get_layer('sent_attention').get_weights())\n",
    "\n",
    "    prediction = output_array[0]\n",
    "    \n",
    "    attention_result = []\n",
    "        out_sent_num = min(len(normalized_text), len(sentence_attentions))\n",
    "        sum_s_att = sum(sentence_attentions[:out_sent_num])\n",
    "        for i in range(out_sent_num):\n",
    "            wa = word_attentions[i][:len(normalized_text[i])]\n",
    "            wa = wa / wa.sum(axis=0, keepdims=1)\n",
    "            attention_result.append([sentence_attentions[i] / sum_s_att,[[w, a] for w, a in zip(wa, normalized_text[i])]])\n",
    "\n",
    "        return list(prediction[0]), attention_result"
   ]
  },
  {
   "cell_type": "code",
   "execution_count": 272,
   "metadata": {},
   "outputs": [],
   "source": [
    "def scale_color_h_hex(c_h, scale):\n",
    "    return matplotlib.colors.to_hex(matplotlib.colors.hsv_to_rgb((c_h, scale, 1)))\n",
    "def red_background_hex(scale):\n",
    "    return scale_color_h_hex(0, scale)\n",
    "def blue_background_hex(scale):\n",
    "    return scale_color_h_hex(0.625, scale)"
   ]
  },
  {
   "cell_type": "code",
   "execution_count": 277,
   "metadata": {},
   "outputs": [],
   "source": [
    "def visualize_attention_html(attentions):\n",
    "    html_response = \"<table>\"\n",
    "    for a in list(attentions):\n",
    "        html_response += \"<tr>\"\n",
    "        sent_color = red_background_hex(a[0])\n",
    "        html_response += f\"<td bgcolor=\\\"{sent_color}\\\"></td>\"\n",
    "        text = \"\"\n",
    "        for i in range(len(a[1])):\n",
    "            t_color = blue_background_hex(np.sqrt(a[0])*a[1][i][0]) # visualize attentions as sqrt(p_s)*p_w as recommended in paper\n",
    "            text += f\"<td bgcolor=\\\"{t_color}\\\">{a[1][i][1]}</td>\"\n",
    "        html_response += text\n",
    "        html_response += \"</tr>\"\n",
    "    html_response += \"</table>\"\n",
    "    return html_response"
   ]
  },
  {
   "cell_type": "code",
   "execution_count": 311,
   "metadata": {},
   "outputs": [
    {
     "name": "stdout",
     "output_type": "stream",
     "text": [
      "Prediction: SPORT with confidence 0.95\n",
      "Sport: 0.95\n",
      "Wirtschaft: 0.00\n",
      "Kultur: 0.01\n",
      "Inland: 0.01\n",
      "Etat: 0.02\n",
      "Web: 0.00\n",
      "Panorama: 0.01\n",
      "International: 0.00\n",
      "Wissenschaft: 0.00\n"
     ]
    },
    {
     "data": {
      "text/html": [
       "<table><tr><td bgcolor=\"#fff5f5\"></td><td bgcolor=\"#cfdbff\">dfb</td><td bgcolor=\"#ffffff\">setzt</td><td bgcolor=\"#ffffff\">zeichen</td><td bgcolor=\"#ffffff\">terror</td><td bgcolor=\"#ffffff\">merkel</td></tr><tr><td bgcolor=\"#ffeeee\"></td><td bgcolor=\"#ffffff\">hannover</td><td bgcolor=\"#ffffff\">–</td><td bgcolor=\"#bfcfff\">länderspiel</td><td bgcolor=\"#fdfeff\">deutschland</td><td bgcolor=\"#ffffff\">niederlanden</td><td bgcolor=\"#ffffff\">findet</td><td bgcolor=\"#ffffff\">dienstag</td><td bgcolor=\"#ffffff\">geplant</td></tr><tr><td bgcolor=\"#ffc2c2\"></td><td bgcolor=\"#89a7ff\">weltmeister</td><td bgcolor=\"#fefeff\">setzen</td><td bgcolor=\"#fefeff\">gemeinsam</td><td bgcolor=\"#fefeff\">kanzlerin</td><td bgcolor=\"#fefeff\">angela</td><td bgcolor=\"#fcfdff\">merkel</td><td bgcolor=\"#ffffff\">ministern</td><td bgcolor=\"#ffffff\">zeichen</td><td bgcolor=\"#ffffff\">terror</td></tr><tr><td bgcolor=\"#ffa6a6\"></td><td bgcolor=\"#ffffff\">terroranschlägen</td><td bgcolor=\"#ffffff\">paris</td><td bgcolor=\"#ffffff\">nacht</td><td bgcolor=\"#ffffff\">extreme</td><td bgcolor=\"#ffffff\">stade</td><td bgcolor=\"#feffff\">de</td><td bgcolor=\"#fdfeff\">france</td><td bgcolor=\"#fefeff\">deutsche</td><td bgcolor=\"#7497ff\">team</td><td bgcolor=\"#f8faff\">absage</td><td bgcolor=\"#fefeff\">länderspiels</td><td bgcolor=\"#ffffff\">diskutiert</td></tr><tr><td bgcolor=\"#ffcece\"></td><td bgcolor=\"#ffffff\">deutsche</td><td bgcolor=\"#90acff\">fußball</td><td bgcolor=\"#fefeff\">regierung</td><td bgcolor=\"#ffffff\">hannover</td><td bgcolor=\"#ffffff\">verbundenheit</td><td bgcolor=\"#ffffff\">frankreich</td><td bgcolor=\"#ffffff\">dokumentieren</td></tr><tr><td bgcolor=\"#fff5f5\"></td><td bgcolor=\"#ffffff\">informationen</td><td bgcolor=\"#ffffff\">bild-zeitung</td><td bgcolor=\"#ffffff\">gesamte</td><td bgcolor=\"#dbe4ff\">regierung</td><td bgcolor=\"#f2f5ff\">länderspiel</td><td bgcolor=\"#ffffff\">besuchen</td></tr><tr><td bgcolor=\"#fff9f9\"></td><td bgcolor=\"#ffffff\">weichen</td><td bgcolor=\"#ffffff\">zitierte</td><td bgcolor=\"#ffffff\">bild</td><td bgcolor=\"#ffffff\">spd-chef</td><td bgcolor=\"#dbe4ff\">vizekanzler</td><td bgcolor=\"#fcfdff\">sigmar</td><td bgcolor=\"#fdfeff\">gabriel</td></tr><tr><td bgcolor=\"#fff8f8\"></td><td bgcolor=\"#ffffff\">offizielle</td><td bgcolor=\"#ffffff\">bestätigung</td><td bgcolor=\"#d5e0ff\">dfb</td><td bgcolor=\"#ffffff\">ließ</td><td bgcolor=\"#fefeff\">sonntag</td><td bgcolor=\"#ffffff\">warten</td></tr><tr><td bgcolor=\"#fff9f9\"></td><td bgcolor=\"#dae3ff\">spiel</td><td bgcolor=\"#ffffff\">sickerte</td><td bgcolor=\"#ffffff\">verband</td><td bgcolor=\"#ffffff\">mehreren</td><td bgcolor=\"#ffffff\">seiten</td></tr></table>"
      ],
      "text/plain": [
       "<IPython.core.display.HTML object>"
      ]
     },
     "metadata": {},
     "output_type": "display_data"
    }
   ],
   "source": [
    "text = test.text.iloc[9]\n",
    "prediction, attentions = predict_and_visualize_attention(text)\n",
    "\n",
    "pred_label_index = np.argmax(prediction)\n",
    "pred_label = index_labels[pred_label_index]\n",
    "pred_prob = prediction[pred_label_index]\n",
    "\n",
    "print(f\"Prediction: {pred_label.upper()} with confidence {pred_prob:.2f}\")\n",
    "for i, l in enumerate(labels_index.keys()):\n",
    "    print(f\"{l}: {prediction[i]:.2f}\")\n",
    "\n",
    "html_response = visualize_attention_html(attentions)\n",
    "display(HTML(html_response))"
   ]
  }
 ],
 "metadata": {
  "kernelspec": {
   "display_name": "ds_basic",
   "language": "python",
   "name": "ds_basic"
  },
  "language_info": {
   "codemirror_mode": {
    "name": "ipython",
    "version": 3
   },
   "file_extension": ".py",
   "mimetype": "text/x-python",
   "name": "python",
   "nbconvert_exporter": "python",
   "pygments_lexer": "ipython3",
   "version": "3.7.1"
  }
 },
 "nbformat": 4,
 "nbformat_minor": 4
}
